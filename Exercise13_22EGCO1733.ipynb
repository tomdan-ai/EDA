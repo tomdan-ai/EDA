{
 "cells": [
  {
   "cell_type": "code",
   "execution_count": 1,
   "id": "3ce4c73c",
   "metadata": {},
   "outputs": [
    {
     "name": "stdout",
     "output_type": "stream",
     "text": [
      "High (≥25°C): 3\n",
      "Low (≤20°C): 6\n",
      "Outliers (>28°C): 1\n",
      "Average of high readings (≥25°C): 27.666666666666668\n",
      "Between 20°C and 35°C: 4\n"
     ]
    }
   ],
   "source": [
    "# Temperature readings\n",
    "temp = [22, 5, 25, 0, 19, 8, 30, 2, 28, 1]\n",
    "\n",
    "# 1. Count of high temperatures (≥25 degrees) using a for loop\n",
    "high_count = 0\n",
    "for t in temp:\n",
    "    if t >= 25:\n",
    "        high_count += 1\n",
    "\n",
    "# 2. Count of low temperatures (≤20 degrees) using list comprehension\n",
    "low_count = len([t for t in temp if t <= 20])\n",
    "\n",
    "# 3. Count of outliers (>28 degrees) using a while loop\n",
    "outlier_count = 0\n",
    "i = 0\n",
    "while i < len(temp):\n",
    "    if temp[i] > 28:\n",
    "        outlier_count += 1\n",
    "    i += 1\n",
    "\n",
    "# 4. Average temperature for readings ≥25 degrees using a for loop\n",
    "sum_high = 0\n",
    "count_high = 0\n",
    "for t in temp:\n",
    "    if t >= 25:\n",
    "        sum_high += t\n",
    "        count_high += 1\n",
    "avg_high = sum_high / count_high if count_high > 0 else 0\n",
    "\n",
    "# 5. Count of temperatures between 20 and 35 degrees using a for loop\n",
    "mid_count = 0\n",
    "for t in temp:\n",
    "    if 20 <= t <= 35:\n",
    "        mid_count += 1\n",
    "\n",
    "print(\"High (≥25°C):\", high_count)\n",
    "print(\"Low (≤20°C):\", low_count)\n",
    "print(\"Outliers (>28°C):\", outlier_count)\n",
    "print(\"Average of high readings (≥25°C):\", avg_high)\n",
    "print(\"Between 20°C and 35°C:\", mid_count)"
   ]
  },
  {
   "cell_type": "code",
   "execution_count": 2,
   "id": "5c65c715",
   "metadata": {},
   "outputs": [
    {
     "name": "stdout",
     "output_type": "stream",
     "text": [
      "Number of customers: 3\n",
      "Purchase amounts for C001: [50, 20]\n",
      "Customers with total purchases above 60: 2\n",
      "Average purchase amount for C002: 65.0\n",
      "Customers with at least one purchase above 50: 1\n"
     ]
    }
   ],
   "source": [
    "purchases = {'C001': [50, 20], 'C002': [100, 30], 'C003': [10, 10]}\n",
    "\n",
    "# 1. Number of customers\n",
    "num_customers = len(purchases)\n",
    "\n",
    "# 2. Purchase amounts for customer C001\n",
    "c001_purchases = purchases.get('C001', [])\n",
    "\n",
    "# 3. Customers with total purchases above 60\n",
    "above_60_count = sum(1 for amounts in purchases.values() if sum(amounts) > 60)\n",
    "\n",
    "# 4. Average purchase amount for customer C002\n",
    "c002_avg = sum(purchases['C002']) / len(purchases['C002']) if 'C002' in purchases else 0\n",
    "\n",
    "# 5. Customers with at least one purchase above 50\n",
    "at_least_one_above_50 = sum(1 for amounts in purchases.values() if any(a > 50 for a in amounts))\n",
    "\n",
    "print(\"Number of customers:\", num_customers)\n",
    "print(\"Purchase amounts for C001:\", c001_purchases)\n",
    "print(\"Customers with total purchases above 60:\", above_60_count)\n",
    "print(\"Average purchase amount for C002:\", c002_avg)\n",
    "print(\"Customers with at least one purchase above 50:\", at_least_one_above_50)"
   ]
  },
  {
   "cell_type": "code",
   "execution_count": 3,
   "id": "dc3a8790",
   "metadata": {},
   "outputs": [
    {
     "name": "stdout",
     "output_type": "stream",
     "text": [
      "Number of coordinate points: 4\n",
      "x-coordinate of first point: 1\n",
      "Points with y > 0: 3\n",
      "Unique product categories: 3\n",
      "Does 'books' exist in unique categories? True\n"
     ]
    }
   ],
   "source": [
    "points = [(1, 2), (3, -1), (0, 4), (2, 3)]\n",
    "categories = ['electronics', 'clothing', 'electronics', 'books']\n",
    "\n",
    "# 1. Number of coordinate points\n",
    "num_points = len(points)\n",
    "\n",
    "# 2. x-coordinate of the first point\n",
    "first_x = points[0][0]\n",
    "\n",
    "# 3. Number of points with y > 0 using a loop\n",
    "y_positive_count = 0\n",
    "for x, y in points:\n",
    "    if y > 0:\n",
    "        y_positive_count += 1\n",
    "\n",
    "# 4. Number of unique product categories\n",
    "unique_categories = set(categories)\n",
    "num_unique_categories = len(unique_categories)\n",
    "\n",
    "# 5. Check if 'books' exists in unique categories\n",
    "books_exists = 'books' in unique_categories\n",
    "\n",
    "print(\"Number of coordinate points:\", num_points)\n",
    "print(\"x-coordinate of first point:\", first_x)\n",
    "print(\"Points with y > 0:\", y_positive_count)\n",
    "print(\"Unique product categories:\", num_unique_categories)\n",
    "print(\"Does 'books' exist in unique categories?\", books_exists)"
   ]
  },
  {
   "cell_type": "code",
   "execution_count": null,
   "id": "eba06eca",
   "metadata": {},
   "outputs": [],
   "source": []
  }
 ],
 "metadata": {
  "kernelspec": {
   "display_name": "Python 3",
   "language": "python",
   "name": "python3"
  },
  "language_info": {
   "codemirror_mode": {
    "name": "ipython",
    "version": 3
   },
   "file_extension": ".py",
   "mimetype": "text/x-python",
   "name": "python",
   "nbconvert_exporter": "python",
   "pygments_lexer": "ipython3",
   "version": "3.10.12"
  }
 },
 "nbformat": 4,
 "nbformat_minor": 5
}
