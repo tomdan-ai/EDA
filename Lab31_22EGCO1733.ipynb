{
 "cells": [
  {
   "cell_type": "code",
   "execution_count": 2,
   "id": "dc2d289d",
   "metadata": {},
   "outputs": [],
   "source": [
    "import pandas as pd\n",
    "import numpy as np\n",
    "import seaborn as sn \n",
    "import matplotlib.pyplot as plt"
   ]
  },
  {
   "cell_type": "code",
   "execution_count": 3,
   "id": "5c713457",
   "metadata": {},
   "outputs": [],
   "source": [
    "data = pd.read_csv(\"datasets/Superstore.csv\")"
   ]
  },
  {
   "cell_type": "code",
   "execution_count": 4,
   "id": "9a4a5fc4",
   "metadata": {},
   "outputs": [
    {
     "data": {
      "text/plain": [
       "Index(['Row ID', 'Order ID', 'Order Date', 'Ship Date', 'Ship Mode',\n",
       "       'Customer ID', 'Customer Name', 'Segment', 'Country', 'City', 'State',\n",
       "       'Postal Code', 'Region', 'Product ID', 'Category', 'Sub-Category',\n",
       "       'Product Name', 'Sales', 'Quantity', 'Discount', 'Profit',\n",
       "       'Unnamed: 21'],\n",
       "      dtype='object')"
      ]
     },
     "execution_count": 4,
     "metadata": {},
     "output_type": "execute_result"
    }
   ],
   "source": [
    "data.columns"
   ]
  },
  {
   "cell_type": "code",
   "execution_count": 5,
   "id": "97b1125b",
   "metadata": {},
   "outputs": [],
   "source": [
    "data.columns = data.columns.str.replace(\" \", \"_\").str.replace(\"-\", \"\")"
   ]
  },
  {
   "cell_type": "markdown",
   "id": "2785ace3",
   "metadata": {},
   "source": []
  },
  {
   "cell_type": "code",
   "execution_count": 6,
   "id": "e939ce1d",
   "metadata": {},
   "outputs": [
    {
     "data": {
      "text/plain": [
       "Index(['Row_ID', 'Order_ID', 'Order_Date', 'Ship_Date', 'Ship_Mode',\n",
       "       'Customer_ID', 'Customer_Name', 'Segment', 'Country', 'City', 'State',\n",
       "       'Postal_Code', 'Region', 'Product_ID', 'Category', 'SubCategory',\n",
       "       'Product_Name', 'Sales', 'Quantity', 'Discount', 'Profit',\n",
       "       'Unnamed:_21'],\n",
       "      dtype='object')"
      ]
     },
     "execution_count": 6,
     "metadata": {},
     "output_type": "execute_result"
    }
   ],
   "source": [
    "data.columns"
   ]
  },
  {
   "cell_type": "code",
   "execution_count": 7,
   "id": "d8f6cb31",
   "metadata": {},
   "outputs": [
    {
     "name": "stdout",
     "output_type": "stream",
     "text": [
      "<class 'pandas.core.frame.DataFrame'>\n",
      "RangeIndex: 9994 entries, 0 to 9993\n",
      "Data columns (total 22 columns):\n",
      " #   Column         Non-Null Count  Dtype  \n",
      "---  ------         --------------  -----  \n",
      " 0   Row_ID         9994 non-null   int64  \n",
      " 1   Order_ID       9994 non-null   object \n",
      " 2   Order_Date     9994 non-null   object \n",
      " 3   Ship_Date      9994 non-null   object \n",
      " 4   Ship_Mode      9994 non-null   object \n",
      " 5   Customer_ID    9994 non-null   object \n",
      " 6   Customer_Name  9994 non-null   object \n",
      " 7   Segment        9994 non-null   object \n",
      " 8   Country        9994 non-null   object \n",
      " 9   City           9994 non-null   object \n",
      " 10  State          9994 non-null   object \n",
      " 11  Postal_Code    9994 non-null   int64  \n",
      " 12  Region         9994 non-null   object \n",
      " 13  Product_ID     9994 non-null   object \n",
      " 14  Category       9994 non-null   object \n",
      " 15  SubCategory    9994 non-null   object \n",
      " 16  Product_Name   9994 non-null   object \n",
      " 17  Sales          9994 non-null   object \n",
      " 18  Quantity       9994 non-null   float64\n",
      " 19  Discount       9994 non-null   float64\n",
      " 20  Profit         9994 non-null   float64\n",
      " 21  Unnamed:_21    6 non-null      float64\n",
      "dtypes: float64(4), int64(2), object(16)\n",
      "memory usage: 1.7+ MB\n"
     ]
    }
   ],
   "source": [
    "data.info()"
   ]
  },
  {
   "cell_type": "code",
   "execution_count": 8,
   "id": "7065d58f",
   "metadata": {},
   "outputs": [
    {
     "data": {
      "text/plain": [
       "(9994, 22)"
      ]
     },
     "execution_count": 8,
     "metadata": {},
     "output_type": "execute_result"
    }
   ],
   "source": [
    "data.shape"
   ]
  },
  {
   "cell_type": "code",
   "execution_count": 9,
   "id": "d55fee3f",
   "metadata": {},
   "outputs": [
    {
     "data": {
      "text/html": [
       "<div>\n",
       "<style scoped>\n",
       "    .dataframe tbody tr th:only-of-type {\n",
       "        vertical-align: middle;\n",
       "    }\n",
       "\n",
       "    .dataframe tbody tr th {\n",
       "        vertical-align: top;\n",
       "    }\n",
       "\n",
       "    .dataframe thead th {\n",
       "        text-align: right;\n",
       "    }\n",
       "</style>\n",
       "<table border=\"1\" class=\"dataframe\">\n",
       "  <thead>\n",
       "    <tr style=\"text-align: right;\">\n",
       "      <th></th>\n",
       "      <th>Profit</th>\n",
       "    </tr>\n",
       "  </thead>\n",
       "  <tbody>\n",
       "    <tr>\n",
       "      <th>count</th>\n",
       "      <td>9994.000000</td>\n",
       "    </tr>\n",
       "    <tr>\n",
       "      <th>mean</th>\n",
       "      <td>28.616097</td>\n",
       "    </tr>\n",
       "    <tr>\n",
       "      <th>std</th>\n",
       "      <td>234.258359</td>\n",
       "    </tr>\n",
       "    <tr>\n",
       "      <th>min</th>\n",
       "      <td>-6599.978000</td>\n",
       "    </tr>\n",
       "    <tr>\n",
       "      <th>25%</th>\n",
       "      <td>1.724800</td>\n",
       "    </tr>\n",
       "    <tr>\n",
       "      <th>50%</th>\n",
       "      <td>8.635600</td>\n",
       "    </tr>\n",
       "    <tr>\n",
       "      <th>75%</th>\n",
       "      <td>29.321800</td>\n",
       "    </tr>\n",
       "    <tr>\n",
       "      <th>max</th>\n",
       "      <td>8399.976000</td>\n",
       "    </tr>\n",
       "  </tbody>\n",
       "</table>\n",
       "</div>"
      ],
      "text/plain": [
       "            Profit\n",
       "count  9994.000000\n",
       "mean     28.616097\n",
       "std     234.258359\n",
       "min   -6599.978000\n",
       "25%       1.724800\n",
       "50%       8.635600\n",
       "75%      29.321800\n",
       "max    8399.976000"
      ]
     },
     "execution_count": 9,
     "metadata": {},
     "output_type": "execute_result"
    }
   ],
   "source": [
    "data[['Sales', 'Profit']].describe()"
   ]
  },
  {
   "cell_type": "code",
   "execution_count": 10,
   "id": "ba043078",
   "metadata": {},
   "outputs": [
    {
     "data": {
      "text/plain": [
       "Category\n",
       "Office Supplies    6026\n",
       "Furniture          2121\n",
       "Technology         1847\n",
       "Name: count, dtype: int64"
      ]
     },
     "execution_count": 10,
     "metadata": {},
     "output_type": "execute_result"
    }
   ],
   "source": [
    "data['Category'].value_counts()"
   ]
  },
  {
   "cell_type": "code",
   "execution_count": 11,
   "id": "edd75673",
   "metadata": {},
   "outputs": [
    {
     "data": {
      "text/plain": [
       "SubCategory\n",
       "Binders        1523\n",
       "Paper          1370\n",
       "Furnishings     957\n",
       "Phones          889\n",
       "Storage         846\n",
       "Art             796\n",
       "Accessories     775\n",
       "Chairs          617\n",
       "Appliances      466\n",
       "Labels          364\n",
       "Tables          319\n",
       "Envelopes       254\n",
       "Bookcases       228\n",
       "Fasteners       217\n",
       "Supplies        190\n",
       "Machines        115\n",
       "Copiers          68\n",
       "Name: count, dtype: int64"
      ]
     },
     "execution_count": 11,
     "metadata": {},
     "output_type": "execute_result"
    }
   ],
   "source": [
    "data[\"SubCategory\"].value_counts()"
   ]
  },
  {
   "cell_type": "code",
   "execution_count": 12,
   "id": "16f70bee",
   "metadata": {},
   "outputs": [
    {
     "data": {
      "text/plain": [
       "793"
      ]
     },
     "execution_count": 12,
     "metadata": {},
     "output_type": "execute_result"
    }
   ],
   "source": [
    "data['Customer_ID'].nunique()"
   ]
  },
  {
   "cell_type": "code",
   "execution_count": 13,
   "id": "a7876564",
   "metadata": {},
   "outputs": [],
   "source": [
    "data['Sales'] = data['Sales'].fillna(0)"
   ]
  },
  {
   "cell_type": "code",
   "execution_count": 14,
   "id": "8c2af1e0",
   "metadata": {},
   "outputs": [],
   "source": [
    "data[\"Sales\"] = pd.to_numeric(data[\"Sales\"], errors='coerce').fillna(0)"
   ]
  },
  {
   "cell_type": "code",
   "execution_count": 15,
   "id": "085b18e3",
   "metadata": {},
   "outputs": [
    {
     "data": {
      "text/plain": [
       "Region\n",
       "Central    500130.4428\n",
       "East       678664.4560\n",
       "South      391021.2010\n",
       "West       725457.8245\n",
       "Name: Sales, dtype: float64"
      ]
     },
     "execution_count": 15,
     "metadata": {},
     "output_type": "execute_result"
    }
   ],
   "source": [
    "data.groupby('Region')['Sales'].sum()"
   ]
  },
  {
   "cell_type": "code",
   "execution_count": 16,
   "id": "72c2a587",
   "metadata": {},
   "outputs": [
    {
     "data": {
      "text/plain": [
       "count     9994.000000\n",
       "mean       229.665192\n",
       "std        623.261168\n",
       "min          0.000000\n",
       "25%         17.220000\n",
       "50%         54.320000\n",
       "75%        209.769000\n",
       "max      22638.480000\n",
       "Name: Sales, dtype: float64"
      ]
     },
     "execution_count": 16,
     "metadata": {},
     "output_type": "execute_result"
    }
   ],
   "source": [
    "data['Sales'].describe(include='object')"
   ]
  },
  {
   "cell_type": "code",
   "execution_count": 17,
   "id": "78900bd2",
   "metadata": {},
   "outputs": [
    {
     "data": {
      "text/plain": [
       "Category\n",
       "Furniture         -1862.3124\n",
       "Office Supplies   -3701.8928\n",
       "Technology        -6599.9780\n",
       "Name: Profit, dtype: float64"
      ]
     },
     "execution_count": 17,
     "metadata": {},
     "output_type": "execute_result"
    }
   ],
   "source": [
    "data.groupby('Category')['Profit'].min()"
   ]
  },
  {
   "cell_type": "code",
   "execution_count": 18,
   "id": "092910da",
   "metadata": {},
   "outputs": [
    {
     "data": {
      "text/plain": [
       "Category\n",
       "Furniture           8.699327\n",
       "Office Supplies    20.327050\n",
       "Technology         78.531242\n",
       "Name: Profit, dtype: float64"
      ]
     },
     "execution_count": 18,
     "metadata": {},
     "output_type": "execute_result"
    }
   ],
   "source": [
    "data.groupby('Category')['Profit'].mean()"
   ]
  },
  {
   "cell_type": "code",
   "execution_count": 21,
   "id": "8482b13a",
   "metadata": {},
   "outputs": [
    {
     "data": {
      "text/plain": [
       "Discount\n",
       "0.00    226.728478\n",
       "0.10    578.397351\n",
       "0.15    529.971567\n",
       "0.20    208.915496\n",
       "0.30    454.742974\n",
       "0.32    536.794770\n",
       "0.40    565.134874\n",
       "0.45    498.634000\n",
       "0.50    892.705152\n",
       "0.60     48.150000\n",
       "0.70     97.177708\n",
       "0.80     56.545853\n",
       "2.00      0.000000\n",
       "4.00      0.000000\n",
       "5.00      0.000000\n",
       "7.00      0.000000\n",
       "Name: Sales, dtype: float64"
      ]
     },
     "execution_count": 21,
     "metadata": {},
     "output_type": "execute_result"
    }
   ],
   "source": [
    "data.groupby('Discount')['Sales'].mean()"
   ]
  },
  {
   "cell_type": "code",
   "execution_count": 24,
   "id": "04d9ece5",
   "metadata": {},
   "outputs": [
    {
     "data": {
      "text/plain": [
       "Ship_Mode\n",
       "First Class       31.825841\n",
       "Same Day          29.266591\n",
       "Second Class      29.496245\n",
       "Standard Class    27.442892\n",
       "Name: Profit, dtype: float64"
      ]
     },
     "execution_count": 24,
     "metadata": {},
     "output_type": "execute_result"
    }
   ],
   "source": [
    "data.groupby('Ship_Mode')['Profit'].mean()"
   ]
  },
  {
   "cell_type": "code",
   "execution_count": 27,
   "id": "0847cc3b",
   "metadata": {},
   "outputs": [
    {
     "data": {
      "text/plain": [
       "Segment\n",
       "Consumer       5191\n",
       "Corporate      3020\n",
       "Home Office    1783\n",
       "Name: Order_ID, dtype: int64"
      ]
     },
     "execution_count": 27,
     "metadata": {},
     "output_type": "execute_result"
    }
   ],
   "source": [
    "data.groupby('Segment')['Order_ID'].count()"
   ]
  },
  {
   "cell_type": "code",
   "execution_count": 29,
   "id": "93b2cbbb",
   "metadata": {},
   "outputs": [
    {
     "data": {
      "text/html": [
       "<div>\n",
       "<style scoped>\n",
       "    .dataframe tbody tr th:only-of-type {\n",
       "        vertical-align: middle;\n",
       "    }\n",
       "\n",
       "    .dataframe tbody tr th {\n",
       "        vertical-align: top;\n",
       "    }\n",
       "\n",
       "    .dataframe thead th {\n",
       "        text-align: right;\n",
       "    }\n",
       "</style>\n",
       "<table border=\"1\" class=\"dataframe\">\n",
       "  <thead>\n",
       "    <tr style=\"text-align: right;\">\n",
       "      <th></th>\n",
       "      <th>Sales</th>\n",
       "      <th>Profit</th>\n",
       "      <th>Quantity</th>\n",
       "      <th>Discount</th>\n",
       "    </tr>\n",
       "  </thead>\n",
       "  <tbody>\n",
       "    <tr>\n",
       "      <th>Sales</th>\n",
       "      <td>1.000000</td>\n",
       "      <td>0.479060</td>\n",
       "      <td>0.044328</td>\n",
       "      <td>-0.028247</td>\n",
       "    </tr>\n",
       "    <tr>\n",
       "      <th>Profit</th>\n",
       "      <td>0.479060</td>\n",
       "      <td>1.000000</td>\n",
       "      <td>0.014616</td>\n",
       "      <td>-0.185239</td>\n",
       "    </tr>\n",
       "    <tr>\n",
       "      <th>Quantity</th>\n",
       "      <td>0.044328</td>\n",
       "      <td>0.014616</td>\n",
       "      <td>1.000000</td>\n",
       "      <td>0.528648</td>\n",
       "    </tr>\n",
       "    <tr>\n",
       "      <th>Discount</th>\n",
       "      <td>-0.028247</td>\n",
       "      <td>-0.185239</td>\n",
       "      <td>0.528648</td>\n",
       "      <td>1.000000</td>\n",
       "    </tr>\n",
       "  </tbody>\n",
       "</table>\n",
       "</div>"
      ],
      "text/plain": [
       "             Sales    Profit  Quantity  Discount\n",
       "Sales     1.000000  0.479060  0.044328 -0.028247\n",
       "Profit    0.479060  1.000000  0.014616 -0.185239\n",
       "Quantity  0.044328  0.014616  1.000000  0.528648\n",
       "Discount -0.028247 -0.185239  0.528648  1.000000"
      ]
     },
     "execution_count": 29,
     "metadata": {},
     "output_type": "execute_result"
    }
   ],
   "source": [
    "data[['Sales', 'Profit', 'Quantity', 'Discount']].corr()"
   ]
  },
  {
   "cell_type": "code",
   "execution_count": 31,
   "id": "8500c9f2",
   "metadata": {},
   "outputs": [
    {
     "data": {
      "text/plain": [
       "np.float64(12.972640520322651)"
      ]
     },
     "execution_count": 31,
     "metadata": {},
     "output_type": "execute_result"
    }
   ],
   "source": [
    "data['Sales'].skew()"
   ]
  },
  {
   "cell_type": "code",
   "execution_count": 32,
   "id": "1e147849",
   "metadata": {},
   "outputs": [
    {
     "data": {
      "text/html": [
       "<div>\n",
       "<style scoped>\n",
       "    .dataframe tbody tr th:only-of-type {\n",
       "        vertical-align: middle;\n",
       "    }\n",
       "\n",
       "    .dataframe tbody tr th {\n",
       "        vertical-align: top;\n",
       "    }\n",
       "\n",
       "    .dataframe thead th {\n",
       "        text-align: right;\n",
       "    }\n",
       "</style>\n",
       "<table border=\"1\" class=\"dataframe\">\n",
       "  <thead>\n",
       "    <tr style=\"text-align: right;\">\n",
       "      <th></th>\n",
       "      <th>Sales</th>\n",
       "      <th>Profit</th>\n",
       "    </tr>\n",
       "  </thead>\n",
       "  <tbody>\n",
       "    <tr>\n",
       "      <th>Sales</th>\n",
       "      <td>388454.483030</td>\n",
       "      <td>69944.748316</td>\n",
       "    </tr>\n",
       "    <tr>\n",
       "      <th>Profit</th>\n",
       "      <td>69944.748316</td>\n",
       "      <td>54876.978870</td>\n",
       "    </tr>\n",
       "  </tbody>\n",
       "</table>\n",
       "</div>"
      ],
      "text/plain": [
       "                Sales        Profit\n",
       "Sales   388454.483030  69944.748316\n",
       "Profit   69944.748316  54876.978870"
      ]
     },
     "execution_count": 32,
     "metadata": {},
     "output_type": "execute_result"
    }
   ],
   "source": [
    "data[['Sales', 'Profit']].cov()"
   ]
  },
  {
   "cell_type": "code",
   "execution_count": 34,
   "id": "bc67d7de",
   "metadata": {},
   "outputs": [
    {
     "data": {
      "text/plain": [
       "Product_Name\n",
       "Canon imageCLASS 2200 Advanced Copier                                          61599.824\n",
       "Fellowes PB500 Electric Punch Plastic Comb Binding Machine with Manual Bind    27453.384\n",
       "Cisco TelePresence System EX90 Videoconferencing Unit                          22638.480\n",
       "HON 5400 Series Task Chairs for Big and Tall                                   21870.576\n",
       "GBC DocuBind TL300 Electric Binding System                                     19823.479\n",
       "GBC Ibimaster 500 Manual ProClick Binding System                               19024.500\n",
       "Hewlett Packard LaserJet 3310 Copier                                           18839.686\n",
       "HP Designjet T520 Inkjet Large Format Printer - 24\" Color                      18374.895\n",
       "GBC DocuBind P400 Electric Binding System                                      17965.068\n",
       "High Speed Automatic Electric Letter Opener                                    17030.312\n",
       "Name: Sales, dtype: float64"
      ]
     },
     "execution_count": 34,
     "metadata": {},
     "output_type": "execute_result"
    }
   ],
   "source": [
    "data.groupby('Product_Name')['Sales'].sum().nlargest(10)"
   ]
  },
  {
   "cell_type": "code",
   "execution_count": 37,
   "id": "c1d2ad2e",
   "metadata": {},
   "outputs": [
    {
     "data": {
      "text/plain": [
       "Product_Name\n",
       "12-1/2 Diameter Round Wall Clock                     3\n",
       "2300 Heavy-Duty Transfer File Systems by Perma       2\n",
       "3.6 Cubic Foot Counter Height Office Refrigerator    3\n",
       "36X48 HARDFLOOR CHAIRMAT                             3\n",
       "3D Systems Cube Printer, 2nd Generation, White       1\n",
       "                                                    ..\n",
       "Zipper Ring Binder Pockets                           6\n",
       "i.Sound Portable Power - 8000 mAh                    3\n",
       "iHome FM Clock Radio with Lightning Dock             1\n",
       "iOttie HLCRIO102 Car Mount                           3\n",
       "iOttie XL Car Mount                                  2\n",
       "Name: Order_ID, Length: 766, dtype: int64"
      ]
     },
     "execution_count": 37,
     "metadata": {},
     "output_type": "execute_result"
    }
   ],
   "source": [
    "data[data['Profit'] < 0].groupby('Product_Name')['Order_ID'].count()"
   ]
  },
  {
   "cell_type": "code",
   "execution_count": 39,
   "id": "dd790f8e",
   "metadata": {},
   "outputs": [
    {
     "data": {
      "text/plain": [
       "State\n",
       "Alabama                  5786.8253\n",
       "Arizona                 -3427.9246\n",
       "Arkansas                 4008.6871\n",
       "California              76381.3871\n",
       "Colorado                -6527.8579\n",
       "Connecticut              3511.4918\n",
       "Delaware                 9977.3748\n",
       "District of Columbia     1059.5893\n",
       "Florida                 -3399.3017\n",
       "Georgia                 16250.0433\n",
       "Idaho                     826.7231\n",
       "Illinois               -12760.7660\n",
       "Indiana                 18382.9363\n",
       "Iowa                     1183.8119\n",
       "Kansas                    836.4435\n",
       "Kentucky                11199.6966\n",
       "Louisiana                2196.1023\n",
       "Maine                     454.4862\n",
       "Maryland                 7031.1788\n",
       "Massachusetts            6785.5016\n",
       "Michigan                24463.1876\n",
       "Minnesota               10823.1874\n",
       "Mississippi              3172.9762\n",
       "Missouri                 6436.2105\n",
       "Montana                  1833.3285\n",
       "Nebraska                 2037.0942\n",
       "Nevada                   3316.7659\n",
       "New Hampshire            1706.5028\n",
       "New Jersey               9772.9138\n",
       "New Mexico               1157.1161\n",
       "New York                74038.5486\n",
       "North Carolina          -7621.8942\n",
       "North Dakota              230.1497\n",
       "Ohio                   -16971.3766\n",
       "Oklahoma                 4751.7700\n",
       "Oregon                  -1190.4705\n",
       "Pennsylvania           -15581.6573\n",
       "Rhode Island             7285.6293\n",
       "South Carolina           1769.0566\n",
       "South Dakota              394.8283\n",
       "Tennessee               -5341.6936\n",
       "Texas                  -25729.3563\n",
       "Utah                     2546.5335\n",
       "Vermont                  2244.9783\n",
       "Virginia                18597.9504\n",
       "Washington              33402.6517\n",
       "West Virginia             185.9216\n",
       "Wisconsin                8401.8004\n",
       "Wyoming                   100.1960\n",
       "Name: Profit, dtype: float64"
      ]
     },
     "execution_count": 39,
     "metadata": {},
     "output_type": "execute_result"
    }
   ],
   "source": [
    "data.groupby('State')['Profit'].sum()"
   ]
  },
  {
   "cell_type": "code",
   "execution_count": 41,
   "id": "700ac143",
   "metadata": {},
   "outputs": [
    {
     "data": {
      "text/plain": [
       "Customer_ID\n",
       "WB-21850    37\n",
       "JL-15835    34\n",
       "MA-17560    34\n",
       "PP-18955    34\n",
       "CK-12205    32\n",
       "Name: Order_ID, dtype: int64"
      ]
     },
     "execution_count": 41,
     "metadata": {},
     "output_type": "execute_result"
    }
   ],
   "source": [
    "data.groupby('Customer_ID')['Order_ID'].count().nlargest(5)"
   ]
  },
  {
   "cell_type": "code",
   "execution_count": 43,
   "id": "d997a11b",
   "metadata": {},
   "outputs": [
    {
     "data": {
      "text/plain": [
       "Discount\n",
       "0.00    4797\n",
       "0.20    3652\n",
       "0.70     418\n",
       "0.80     300\n",
       "0.30     227\n",
       "0.40     206\n",
       "0.60     138\n",
       "0.10      94\n",
       "0.50      66\n",
       "0.15      52\n",
       "0.32      27\n",
       "0.45      11\n",
       "7.00       3\n",
       "5.00       1\n",
       "2.00       1\n",
       "4.00       1\n",
       "Name: count, dtype: int64"
      ]
     },
     "execution_count": 43,
     "metadata": {},
     "output_type": "execute_result"
    }
   ],
   "source": [
    "data['Discount'].value_counts()"
   ]
  },
  {
   "cell_type": "code",
   "execution_count": 45,
   "id": "4fee3f10",
   "metadata": {},
   "outputs": [
    {
     "data": {
      "text/plain": [
       "Region\n",
       "Central     9871.448\n",
       "East       10732.784\n",
       "South       6897.704\n",
       "West       12266.000\n",
       "Name: Quantity, dtype: float64"
      ]
     },
     "execution_count": 45,
     "metadata": {},
     "output_type": "execute_result"
    }
   ],
   "source": [
    "data.groupby('Region')['Quantity'].sum()"
   ]
  }
 ],
 "metadata": {
  "kernelspec": {
   "display_name": "Python 3",
   "language": "python",
   "name": "python3"
  },
  "language_info": {
   "codemirror_mode": {
    "name": "ipython",
    "version": 3
   },
   "file_extension": ".py",
   "mimetype": "text/x-python",
   "name": "python",
   "nbconvert_exporter": "python",
   "pygments_lexer": "ipython3",
   "version": "3.10.12"
  }
 },
 "nbformat": 4,
 "nbformat_minor": 5
}
