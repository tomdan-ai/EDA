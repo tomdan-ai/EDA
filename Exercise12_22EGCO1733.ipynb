{
 "cells": [
  {
   "cell_type": "markdown",
   "id": "ff69ea50",
   "metadata": {},
   "source": [
    "# SCENERIO 1"
   ]
  },
  {
   "cell_type": "code",
   "execution_count": 14,
   "id": "253fb972",
   "metadata": {},
   "outputs": [
    {
     "name": "stdout",
     "output_type": "stream",
     "text": [
      "Number of readings: 5\n",
      "First temperature: 22.5\n",
      "Temperatures above 25: [30.2, 28.1]\n",
      "Number above 25: 2\n",
      "Average of non-zero temperatures: 25.119999999999997\n",
      "Last temperature: 28.1\n"
     ]
    }
   ],
   "source": [
    "temps = [22.5, 25.0, 19.8, 30.2, 28.1]\n",
    "\n",
    "# Number of temperature readings in the list\n",
    "num_readings = len(temps)  # Command: len(temps)\n",
    "print('Number of readings:', num_readings)\n",
    "\n",
    "# First temperature reading in the list\n",
    "first_temp = temps[0]  # Command: temps[0]\n",
    "print('First temperature:', first_temp)\n",
    "\n",
    "# Temperatures above 25 degrees using list comprehension\n",
    "temps_above_25 = [t for t in temps if t > 25]\n",
    "num_above_25 = len(temps_above_25)  # Command: [t for t in temps if t > 25]\n",
    "print('Temperatures above 25:', temps_above_25)\n",
    "print('Number above 25:', num_above_25)\n",
    "\n",
    "# Average of non-zero temperatures using a loop\n",
    "total = 0\n",
    "count = 0\n",
    "for t in temps:\n",
    "    if t != 0:\n",
    "        total += t\n",
    "        count += 1\n",
    "average_non_zero = total / count if count > 0 else 0  # Loop-based calculation\n",
    "print('Average of non-zero temperatures:', average_non_zero)\n",
    "\n",
    "# Last temperature reading in the list\n",
    "last_temp = temps[-1]  # Command: temps[-1]\n",
    "print('Last temperature:', last_temp)"
   ]
  },
  {
   "cell_type": "markdown",
   "id": "a95b4a93",
   "metadata": {},
   "source": [
    "# scenerio 2"
   ]
  },
  {
   "cell_type": "code",
   "execution_count": null,
   "id": "8c1b8c65",
   "metadata": {
    "vscode": {
     "languageId": "r"
    }
   },
   "outputs": [],
   "source": [
    "purchases = {'C001': [50, 20], 'C002': [100, 30], 'C003': [10, 10]}\n",
    "\n",
    "# Number of customers in the purchases dictionary\n",
    "num_customers = len(purchases)\n",
    "print('Number of customers:', num_customers)\n",
    "\n",
    "# Purchase amounts for customer C001\n",
    "c001_purchases = purchases['C001']\n",
    "print('C001 purchases:', c001_purchases)\n",
    "\n",
    "# Number of customers with total purchases above 60\n",
    "num_above_60 = sum(sum(amounts) > 60 for amounts in purchases.values())\n",
    "print('Customers with total purchases above 60:', num_above_60)\n",
    "\n",
    "# Average purchase amount for customer C002\n",
    "c002_avg = sum(purchases['C002']) / len(purchases['C002'])\n",
    "print('Average purchase for C002:', c002_avg)\n",
    "\n",
    "# Number of customers with at least one purchase above 50\n",
    "num_with_purchase_above_50 = sum(any(amount > 50 for amount in amounts) for amounts in purchases.values())\n",
    "print('Customers with at least one purchase above 50:', num_with_purchase_above_50)"
   ]
  },
  {
   "cell_type": "markdown",
   "id": "0614e5cb",
   "metadata": {},
   "source": []
  },
  {
   "cell_type": "markdown",
   "id": "2c7b15ca",
   "metadata": {},
   "source": [
    "# Scenerio 3"
   ]
  },
  {
   "cell_type": "code",
   "execution_count": 15,
   "id": "e367387f",
   "metadata": {},
   "outputs": [
    {
     "name": "stdout",
     "output_type": "stream",
     "text": [
      "Number of points: 4\n",
      "First x-coordinate: 1\n",
      "Points with y > 0: 3\n",
      "Unique categories: {'books', 'clothing', 'electronics'}\n",
      "Number of unique categories: 3\n",
      "Does 'books' exist in categories? True\n"
     ]
    }
   ],
   "source": [
    "points = [(1, 2), (3, -1), (0, 4), (2, 3)]\n",
    "categories = ['electronics', 'clothing', 'electronics', 'books']\n",
    "\n",
    "# Number of coordinate points in the points list\n",
    "num_points = len(points)\n",
    "print('Number of points:', num_points)\n",
    "\n",
    "# x-coordinate of the first point\n",
    "first_x = points[0][0]\n",
    "print('First x-coordinate:', first_x)\n",
    "\n",
    "# Number of points with y > 0 using a loop\n",
    "count_y_positive = 0\n",
    "for x, y in points:\n",
    "    if y > 0:\n",
    "        count_y_positive += 1\n",
    "print('Points with y > 0:', count_y_positive)\n",
    "\n",
    "# Unique product categories as a set\n",
    "unique_categories = set(categories)\n",
    "num_unique_categories = len(unique_categories)\n",
    "print('Unique categories:', unique_categories)\n",
    "print('Number of unique categories:', num_unique_categories)\n",
    "\n",
    "# Check if 'books' exists in the set of unique categories\n",
    "books_exists = 'books' in unique_categories\n",
    "print(\"Does 'books' exist in categories?\", books_exists)"
   ]
  }
 ],
 "metadata": {
  "kernelspec": {
   "display_name": "Python 3",
   "language": "python",
   "name": "python3"
  },
  "language_info": {
   "codemirror_mode": {
    "name": "ipython",
    "version": 3
   },
   "file_extension": ".py",
   "mimetype": "text/x-python",
   "name": "python",
   "nbconvert_exporter": "python",
   "pygments_lexer": "ipython3",
   "version": "3.10.12"
  }
 },
 "nbformat": 4,
 "nbformat_minor": 5
}
