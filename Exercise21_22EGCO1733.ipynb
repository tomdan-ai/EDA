{
 "cells": [
  {
   "cell_type": "code",
   "execution_count": 3,
   "id": "4bed76a0",
   "metadata": {},
   "outputs": [
    {
     "name": "stdout",
     "output_type": "stream",
     "text": [
      "10 Data Types: ['Tabular data (CSV, Excel)', 'Time series data', 'Text data (plain text, documents)', 'Image data (JPEG, PNG)', 'Audio data (WAV, MP3)', 'Video data (MP4, AVI)', 'Geospatial data (Shapefile, GeoJSON)', 'Sensor data (IoT streams)', 'Graph data (network edges/nodes)', 'Log data (system/application logs)']\n",
      "Student performance dataset structure: structured\n",
      "Number of categorical columns: 17\n",
      "CSV vs Excel benefit: CSV files are plain text, lightweight, and easily handled by most data analysis tools and programming languages. They are faster to read/write and less prone to compatibility issues than Excel, making them ideal for analyzing variables like absences and G3.\n",
      "JSON vs CSV size: JSON format is more verbose due to its key-value structure, resulting in a larger file size compared to CSV, especially for variables like reason and guardian which are repeated for each record.\n",
      "Possible file formats: ['CSV', 'Excel (XLSX)', 'JSON', 'Parquet', 'Feather', 'HDF5']\n",
      "Readable for nontechnical users: ['CSV', 'Excel (XLSX)']\n"
     ]
    }
   ],
   "source": [
    "import pandas as pd\n",
    "\n",
    "# 10 Different Types of Data Commonly Used in Data Science Workflows\n",
    "data_types = [\n",
    "    \"Tabular data (CSV, Excel)\",\n",
    "    \"Time series data\",\n",
    "    \"Text data (plain text, documents)\",\n",
    "    \"Image data (JPEG, PNG)\",\n",
    "    \"Audio data (WAV, MP3)\",\n",
    "    \"Video data (MP4, AVI)\",\n",
    "    \"Geospatial data (Shapefile, GeoJSON)\",\n",
    "    \"Sensor data (IoT streams)\",\n",
    "    \"Graph data (network edges/nodes)\",\n",
    "    \"Log data (system/application logs)\"\n",
    "]\n",
    "\n",
    "# Student performance dataset structure\n",
    "dataset_structure = \"structured\"  # Tabular format with defined columns\n",
    "\n",
    "# Count categorical columns in the dataset\n",
    "\n",
    "df = pd.read_csv('datasets/student_data.csv')\n",
    "categorical_columns = df.select_dtypes(include=['object', 'category']).columns\n",
    "num_categorical_columns = len(categorical_columns)\n",
    "\n",
    "# Benefit of CSV vs Excel for analyzing absences and G3\n",
    "csv_vs_excel_benefit = (\n",
    "    \"CSV files are plain text, lightweight, and easily handled by most data analysis tools and programming languages. \"\n",
    "    \"They are faster to read/write and less prone to compatibility issues than Excel, making them ideal for analyzing variables like absences and G3.\"\n",
    ")\n",
    "\n",
    "# Dataset size: JSON vs CSV (considering variables like reason and guardian)\n",
    "json_vs_csv_size = (\n",
    "    \"JSON format is more verbose due to its key-value structure, resulting in a larger file size compared to CSV, \"\n",
    "    \"especially for variables like reason and guardian which are repeated for each record.\"\n",
    ")\n",
    "\n",
    "# Unique file formats for storing the dataset and readability for nontechnical users\n",
    "possible_formats = [\"CSV\", \"Excel (XLSX)\", \"JSON\", \"Parquet\", \"Feather\", \"HDF5\"]\n",
    "readable_for_nontechnical = [\"CSV\", \"Excel (XLSX)\"]  # CSV and Excel are most readable for nontechnical users\n",
    "\n",
    "# Output summary\n",
    "print(\"10 Data Types:\", data_types)\n",
    "print(\"Student performance dataset structure:\", dataset_structure)\n",
    "print(\"Number of categorical columns:\", num_categorical_columns)\n",
    "print(\"CSV vs Excel benefit:\", csv_vs_excel_benefit)\n",
    "print(\"JSON vs CSV size:\", json_vs_csv_size)\n",
    "print(\"Possible file formats:\", possible_formats)\n",
    "print(\"Readable for nontechnical users:\", readable_for_nontechnical)"
   ]
  },
  {
   "cell_type": "code",
   "execution_count": null,
   "id": "2678352a",
   "metadata": {},
   "outputs": [],
   "source": []
  }
 ],
 "metadata": {
  "kernelspec": {
   "display_name": "Python 3",
   "language": "python",
   "name": "python3"
  },
  "language_info": {
   "codemirror_mode": {
    "name": "ipython",
    "version": 3
   },
   "file_extension": ".py",
   "mimetype": "text/x-python",
   "name": "python",
   "nbconvert_exporter": "python",
   "pygments_lexer": "ipython3",
   "version": "3.10.12"
  }
 },
 "nbformat": 4,
 "nbformat_minor": 5
}
