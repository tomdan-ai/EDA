{
 "cells": [
  {
   "cell_type": "code",
   "execution_count": 1,
   "id": "31e4c9d5",
   "metadata": {},
   "outputs": [
    {
     "name": "stdout",
     "output_type": "stream",
     "text": [
      "Number of rows imported: 395\n",
      "Data type of G3 column: int64\n",
      "Mjob column type: object\n",
      "Fjob column type: object\n",
      "Mjob column type after conversion: category\n",
      "Fjob column type after conversion: category\n"
     ]
    }
   ],
   "source": [
    "import pandas as pd\n",
    "\n",
    "# Load the dataset from the datasets folder\n",
    "df = pd.read_csv('datasets/student_data.csv', na_values=['NA', '?'])\n",
    "\n",
    "# Confirm the number of rows imported\n",
    "print(\"Number of rows imported:\", len(df))\n",
    "\n",
    "# Check the data type of the G3 column\n",
    "print(\"Data type of G3 column:\", df['G3'].dtype)\n",
    "\n",
    "# Setting na_values=['NA', '?'] will treat 'NA' and '?' as missing values (NaN) in the dataframe\n",
    "\n",
    "# Confirm Mjob and Fjob columns are imported as categorical variables\n",
    "print(\"Mjob column type:\", df['Mjob'].dtype)\n",
    "print(\"Fjob column type:\", df['Fjob'].dtype)\n",
    "\n",
    "# If not categorical, convert them\n",
    "df['Mjob'] = df['Mjob'].astype('category')\n",
    "df['Fjob'] = df['Fjob'].astype('category')\n",
    "print(\"Mjob column type after conversion:\", df['Mjob'].dtype)\n",
    "print(\"Fjob column type after conversion:\", df['Fjob'].dtype)"
   ]
  },
  {
   "cell_type": "code",
   "execution_count": null,
   "id": "e0bf6a40",
   "metadata": {},
   "outputs": [],
   "source": []
  }
 ],
 "metadata": {
  "kernelspec": {
   "display_name": "Python 3",
   "language": "python",
   "name": "python3"
  },
  "language_info": {
   "codemirror_mode": {
    "name": "ipython",
    "version": 3
   },
   "file_extension": ".py",
   "mimetype": "text/x-python",
   "name": "python",
   "nbconvert_exporter": "python",
   "pygments_lexer": "ipython3",
   "version": "3.10.12"
  }
 },
 "nbformat": 4,
 "nbformat_minor": 5
}
